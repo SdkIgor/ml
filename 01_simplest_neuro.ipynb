{
 "cells": [
  {
   "cell_type": "markdown",
   "id": "769be00e",
   "metadata": {},
   "source": [
    "Самая простейшая нейросетка на основе ТОЛЬКО данных о разговоре.\n",
    "\n",
    "Данные только по вертикали \"Сантехника\""
   ]
  },
  {
   "cell_type": "code",
   "execution_count": 29,
   "id": "0b099bb4",
   "metadata": {},
   "outputs": [
    {
     "data": {
      "text/html": [
       "<div>\n",
       "<style scoped>\n",
       "    .dataframe tbody tr th:only-of-type {\n",
       "        vertical-align: middle;\n",
       "    }\n",
       "\n",
       "    .dataframe tbody tr th {\n",
       "        vertical-align: top;\n",
       "    }\n",
       "\n",
       "    .dataframe thead th {\n",
       "        text-align: right;\n",
       "    }\n",
       "</style>\n",
       "<table border=\"1\" class=\"dataframe\">\n",
       "  <thead>\n",
       "    <tr style=\"text-align: right;\">\n",
       "      <th></th>\n",
       "      <th>name</th>\n",
       "      <th>phone</th>\n",
       "      <th>group_id</th>\n",
       "      <th>question_id</th>\n",
       "      <th>confirm</th>\n",
       "      <th>result</th>\n",
       "      <th>result_comment</th>\n",
       "    </tr>\n",
       "  </thead>\n",
       "  <tbody>\n",
       "    <tr>\n",
       "      <th>0</th>\n",
       "      <td>Куринов Максим</td>\n",
       "      <td>89093869470</td>\n",
       "      <td>3</td>\n",
       "      <td>1</td>\n",
       "      <td>1</td>\n",
       "      <td>0</td>\n",
       "      <td>Согласен/ 3 раза звонила не взял трубку</td>\n",
       "    </tr>\n",
       "    <tr>\n",
       "      <th>1</th>\n",
       "      <td>Баж Егор</td>\n",
       "      <td>89047510599</td>\n",
       "      <td>3</td>\n",
       "      <td>1</td>\n",
       "      <td>1</td>\n",
       "      <td>0</td>\n",
       "      <td>Согласен/ тел не доступен</td>\n",
       "    </tr>\n",
       "    <tr>\n",
       "      <th>2</th>\n",
       "      <td>Сериков Андрей</td>\n",
       "      <td>89081499151</td>\n",
       "      <td>1</td>\n",
       "      <td>1</td>\n",
       "      <td>1</td>\n",
       "      <td>0</td>\n",
       "      <td>Согласен/ не выход</td>\n",
       "    </tr>\n",
       "    <tr>\n",
       "      <th>3</th>\n",
       "      <td>Егоров Андрей</td>\n",
       "      <td>89009250730</td>\n",
       "      <td>1</td>\n",
       "      <td>1</td>\n",
       "      <td>1</td>\n",
       "      <td>1</td>\n",
       "      <td>Согласен/ выход</td>\n",
       "    </tr>\n",
       "    <tr>\n",
       "      <th>4</th>\n",
       "      <td>Птицын Валентин</td>\n",
       "      <td>89685221822</td>\n",
       "      <td>1</td>\n",
       "      <td>1</td>\n",
       "      <td>1</td>\n",
       "      <td>1</td>\n",
       "      <td>Согласен/ выход</td>\n",
       "    </tr>\n",
       "    <tr>\n",
       "      <th>...</th>\n",
       "      <td>...</td>\n",
       "      <td>...</td>\n",
       "      <td>...</td>\n",
       "      <td>...</td>\n",
       "      <td>...</td>\n",
       "      <td>...</td>\n",
       "      <td>...</td>\n",
       "    </tr>\n",
       "    <tr>\n",
       "      <th>95</th>\n",
       "      <td>Бойка Игорь Анатольевич</td>\n",
       "      <td>89009027134</td>\n",
       "      <td>1</td>\n",
       "      <td>6</td>\n",
       "      <td>1</td>\n",
       "      <td>0</td>\n",
       "      <td>Согласен/ 3 раза звонила не взял трубку</td>\n",
       "    </tr>\n",
       "    <tr>\n",
       "      <th>96</th>\n",
       "      <td>Есипов Николай Владиславович</td>\n",
       "      <td>89250528281</td>\n",
       "      <td>1</td>\n",
       "      <td>6</td>\n",
       "      <td>1</td>\n",
       "      <td>1</td>\n",
       "      <td>Согласен/выход</td>\n",
       "    </tr>\n",
       "    <tr>\n",
       "      <th>97</th>\n",
       "      <td>Аксенов Александр</td>\n",
       "      <td>89521283717</td>\n",
       "      <td>1</td>\n",
       "      <td>6</td>\n",
       "      <td>1</td>\n",
       "      <td>1</td>\n",
       "      <td>Согласен/выход</td>\n",
       "    </tr>\n",
       "    <tr>\n",
       "      <th>98</th>\n",
       "      <td>Владислав Владислав</td>\n",
       "      <td>89225718763</td>\n",
       "      <td>1</td>\n",
       "      <td>6</td>\n",
       "      <td>1</td>\n",
       "      <td>1</td>\n",
       "      <td>Согласен/выход</td>\n",
       "    </tr>\n",
       "    <tr>\n",
       "      <th>99</th>\n",
       "      <td>Вершинин Сергей</td>\n",
       "      <td>89789480545</td>\n",
       "      <td>1</td>\n",
       "      <td>6</td>\n",
       "      <td>1</td>\n",
       "      <td>1</td>\n",
       "      <td>Согласен/выход</td>\n",
       "    </tr>\n",
       "  </tbody>\n",
       "</table>\n",
       "<p>100 rows × 7 columns</p>\n",
       "</div>"
      ],
      "text/plain": [
       "                            name        phone  group_id  question_id  confirm  \\\n",
       "0                Куринов Максим   89093869470         3            1        1   \n",
       "1                       Баж Егор  89047510599         3            1        1   \n",
       "2                 Сериков Андрей  89081499151         1            1        1   \n",
       "3                  Егоров Андрей  89009250730         1            1        1   \n",
       "4                Птицын Валентин  89685221822         1            1        1   \n",
       "..                           ...          ...       ...          ...      ...   \n",
       "95       Бойка Игорь Анатольевич  89009027134         1            6        1   \n",
       "96  Есипов Николай Владиславович  89250528281         1            6        1   \n",
       "97             Аксенов Александр  89521283717         1            6        1   \n",
       "98           Владислав Владислав  89225718763         1            6        1   \n",
       "99               Вершинин Сергей  89789480545         1            6        1   \n",
       "\n",
       "    result                           result_comment  \n",
       "0        0  Согласен/ 3 раза звонила не взял трубку  \n",
       "1        0                Согласен/ тел не доступен  \n",
       "2        0                       Согласен/ не выход  \n",
       "3        1                          Согласен/ выход  \n",
       "4        1                          Согласен/ выход  \n",
       "..     ...                                      ...  \n",
       "95       0  Согласен/ 3 раза звонила не взял трубку  \n",
       "96       1                           Согласен/выход  \n",
       "97       1                           Согласен/выход  \n",
       "98       1                           Согласен/выход  \n",
       "99       1                           Согласен/выход  \n",
       "\n",
       "[100 rows x 7 columns]"
      ]
     },
     "execution_count": 29,
     "metadata": {},
     "output_type": "execute_result"
    }
   ],
   "source": [
    "import pandas as pd\n",
    "df = pd.read_csv( '1.csv', sep=',', encoding='utf-8' )\n",
    "df"
   ]
  },
  {
   "cell_type": "code",
   "execution_count": 30,
   "id": "1497ba55",
   "metadata": {},
   "outputs": [
    {
     "data": {
      "text/html": [
       "<div>\n",
       "<style scoped>\n",
       "    .dataframe tbody tr th:only-of-type {\n",
       "        vertical-align: middle;\n",
       "    }\n",
       "\n",
       "    .dataframe tbody tr th {\n",
       "        vertical-align: top;\n",
       "    }\n",
       "\n",
       "    .dataframe thead th {\n",
       "        text-align: right;\n",
       "    }\n",
       "</style>\n",
       "<table border=\"1\" class=\"dataframe\">\n",
       "  <thead>\n",
       "    <tr style=\"text-align: right;\">\n",
       "      <th></th>\n",
       "      <th>group_id</th>\n",
       "      <th>question_id</th>\n",
       "      <th>confirm</th>\n",
       "      <th>result</th>\n",
       "    </tr>\n",
       "  </thead>\n",
       "  <tbody>\n",
       "    <tr>\n",
       "      <th>0</th>\n",
       "      <td>3</td>\n",
       "      <td>1</td>\n",
       "      <td>1</td>\n",
       "      <td>0</td>\n",
       "    </tr>\n",
       "    <tr>\n",
       "      <th>1</th>\n",
       "      <td>3</td>\n",
       "      <td>1</td>\n",
       "      <td>1</td>\n",
       "      <td>0</td>\n",
       "    </tr>\n",
       "    <tr>\n",
       "      <th>2</th>\n",
       "      <td>1</td>\n",
       "      <td>1</td>\n",
       "      <td>1</td>\n",
       "      <td>0</td>\n",
       "    </tr>\n",
       "    <tr>\n",
       "      <th>3</th>\n",
       "      <td>1</td>\n",
       "      <td>1</td>\n",
       "      <td>1</td>\n",
       "      <td>1</td>\n",
       "    </tr>\n",
       "    <tr>\n",
       "      <th>4</th>\n",
       "      <td>1</td>\n",
       "      <td>1</td>\n",
       "      <td>1</td>\n",
       "      <td>1</td>\n",
       "    </tr>\n",
       "    <tr>\n",
       "      <th>...</th>\n",
       "      <td>...</td>\n",
       "      <td>...</td>\n",
       "      <td>...</td>\n",
       "      <td>...</td>\n",
       "    </tr>\n",
       "    <tr>\n",
       "      <th>95</th>\n",
       "      <td>1</td>\n",
       "      <td>6</td>\n",
       "      <td>1</td>\n",
       "      <td>0</td>\n",
       "    </tr>\n",
       "    <tr>\n",
       "      <th>96</th>\n",
       "      <td>1</td>\n",
       "      <td>6</td>\n",
       "      <td>1</td>\n",
       "      <td>1</td>\n",
       "    </tr>\n",
       "    <tr>\n",
       "      <th>97</th>\n",
       "      <td>1</td>\n",
       "      <td>6</td>\n",
       "      <td>1</td>\n",
       "      <td>1</td>\n",
       "    </tr>\n",
       "    <tr>\n",
       "      <th>98</th>\n",
       "      <td>1</td>\n",
       "      <td>6</td>\n",
       "      <td>1</td>\n",
       "      <td>1</td>\n",
       "    </tr>\n",
       "    <tr>\n",
       "      <th>99</th>\n",
       "      <td>1</td>\n",
       "      <td>6</td>\n",
       "      <td>1</td>\n",
       "      <td>1</td>\n",
       "    </tr>\n",
       "  </tbody>\n",
       "</table>\n",
       "<p>100 rows × 4 columns</p>\n",
       "</div>"
      ],
      "text/plain": [
       "    group_id  question_id  confirm  result\n",
       "0          3            1        1       0\n",
       "1          3            1        1       0\n",
       "2          1            1        1       0\n",
       "3          1            1        1       1\n",
       "4          1            1        1       1\n",
       "..       ...          ...      ...     ...\n",
       "95         1            6        1       0\n",
       "96         1            6        1       1\n",
       "97         1            6        1       1\n",
       "98         1            6        1       1\n",
       "99         1            6        1       1\n",
       "\n",
       "[100 rows x 4 columns]"
      ]
     },
     "execution_count": 30,
     "metadata": {},
     "output_type": "execute_result"
    }
   ],
   "source": [
    "df = df.drop(columns=['name', 'phone', 'result_comment'])\n",
    "df"
   ]
  },
  {
   "cell_type": "code",
   "execution_count": 31,
   "id": "aed8c347",
   "metadata": {},
   "outputs": [
    {
     "name": "stdout",
     "output_type": "stream",
     "text": [
      "<class 'pandas.core.frame.DataFrame'>\n",
      "RangeIndex: 100 entries, 0 to 99\n",
      "Data columns (total 4 columns):\n",
      " #   Column       Non-Null Count  Dtype\n",
      "---  ------       --------------  -----\n",
      " 0   group_id     100 non-null    int64\n",
      " 1   question_id  100 non-null    int64\n",
      " 2   confirm      100 non-null    int64\n",
      " 3   result       100 non-null    int64\n",
      "dtypes: int64(4)\n",
      "memory usage: 3.2 KB\n"
     ]
    }
   ],
   "source": [
    "df.info()"
   ]
  },
  {
   "cell_type": "code",
   "execution_count": 32,
   "id": "588f7b4c",
   "metadata": {},
   "outputs": [
    {
     "name": "stdout",
     "output_type": "stream",
     "text": [
      "<class 'pandas.core.frame.DataFrame'>\n",
      "RangeIndex: 100 entries, 0 to 99\n",
      "Data columns (total 4 columns):\n",
      " #   Column       Non-Null Count  Dtype\n",
      "---  ------       --------------  -----\n",
      " 0   group_id     100 non-null    int64\n",
      " 1   question_id  100 non-null    int64\n",
      " 2   confirm      100 non-null    int64\n",
      " 3   result       100 non-null    bool \n",
      "dtypes: bool(1), int64(3)\n",
      "memory usage: 2.6 KB\n"
     ]
    }
   ],
   "source": [
    "df['result'] = df['result'].astype('bool')\n",
    "df.info()"
   ]
  },
  {
   "cell_type": "markdown",
   "id": "c52657a0",
   "metadata": {},
   "source": [
    "# Логистическая регрессия"
   ]
  },
  {
   "cell_type": "code",
   "execution_count": 33,
   "id": "bd467790",
   "metadata": {},
   "outputs": [
    {
     "name": "stdout",
     "output_type": "stream",
     "text": [
      "0.67\n"
     ]
    }
   ],
   "source": [
    "from sklearn.linear_model import LogisticRegression\n",
    "param_to_predict='result'\n",
    "y = df[param_to_predict]\n",
    "X = df.loc[:, df.columns != param_to_predict]\n",
    "model_lr = LogisticRegression(random_state=0, solver='liblinear').fit(X, y)\n",
    "print(round(model_lr.score(X,y), 4)) # mean accuracy"
   ]
  },
  {
   "cell_type": "code",
   "execution_count": 34,
   "id": "13e11d5b",
   "metadata": {},
   "outputs": [],
   "source": [
    "# feature_names = LR[:-1].get_feature_names_out()"
   ]
  },
  {
   "cell_type": "code",
   "execution_count": 35,
   "id": "22fa0888",
   "metadata": {},
   "outputs": [
    {
     "data": {
      "text/plain": [
       "False"
      ]
     },
     "execution_count": 35,
     "metadata": {},
     "output_type": "execute_result"
    }
   ],
   "source": [
    "result = model_lr.predict( pd.DataFrame( data = { 'group_id': 3, 'question_id': 5, 'confirm': 1 }, index = [0] ) )\n",
    "result[0]"
   ]
  },
  {
   "cell_type": "markdown",
   "id": "46b6b681",
   "metadata": {},
   "source": [
    "( про то, зачем нужен `index = [0]` читать [тут](https://stackoverflow.com/questions/17839973/constructing-pandas-dataframe-from-values-in-variables-gives-valueerror-if-usi) )"
   ]
  },
  {
   "cell_type": "code",
   "execution_count": 36,
   "id": "57a8eaf6",
   "metadata": {},
   "outputs": [
    {
     "data": {
      "text/plain": [
       "True"
      ]
     },
     "execution_count": 36,
     "metadata": {},
     "output_type": "execute_result"
    }
   ],
   "source": [
    "result = model_lr.predict( pd.DataFrame( data = { 'group_id': 1, 'question_id': 6, 'confirm': 0 }, index = [0] ) )\n",
    "result[0]"
   ]
  },
  {
   "cell_type": "code",
   "execution_count": 37,
   "id": "62adeacd",
   "metadata": {},
   "outputs": [
    {
     "data": {
      "image/png": "[encoded data removed]",
      "text/plain": [
       "<Figure size 640x480 with 1 Axes>"
      ]
     },
     "metadata": {},
     "output_type": "display_data"
    }
   ],
   "source": [
    "from sklearn.metrics import RocCurveDisplay\n",
    "import matplotlib.pyplot as plt\n",
    "RocCurveDisplay.from_estimator(model_lr, X, y)\n",
    "plt.show()"
   ]
  },
  {
   "cell_type": "markdown",
   "id": "cd2f8f3b",
   "metadata": {},
   "source": [
    "# Метод опорных векторов (SVM)"
   ]
  },
  {
   "cell_type": "code",
   "execution_count": 38,
   "id": "3292915f",
   "metadata": {},
   "outputs": [
    {
     "data": {
      "image/png": "[encoded data removed]",
      "text/plain": [
       "<Figure size 640x480 with 1 Axes>"
      ]
     },
     "metadata": {},
     "output_type": "display_data"
    }
   ],
   "source": [
    "# C-Support Vector Classification (supervised learning)\n",
    "from sklearn.svm import SVC\n",
    "from sklearn.model_selection import train_test_split\n",
    "param_to_predict='result'\n",
    "y = df[param_to_predict]\n",
    "X = df.loc[:, df.columns != param_to_predict]\n",
    "X_train, X_test, y_train, y_test = train_test_split(X, y, random_state=0)\n",
    "model_sv = SVC(random_state=0).fit(X_train, y_train)\n",
    "RocCurveDisplay.from_estimator(model_sv, X_test, y_test)\n",
    "plt.show()"
   ]
  },
  {
   "cell_type": "code",
   "execution_count": 39,
   "id": "7690f51a",
   "metadata": {},
   "outputs": [
    {
     "data": {
      "text/plain": [
       "False"
      ]
     },
     "execution_count": 39,
     "metadata": {},
     "output_type": "execute_result"
    }
   ],
   "source": [
    "result = model_sv.predict( pd.DataFrame( data = { 'group_id': 3, 'question_id': 5, 'confirm': 1 }, index = [0] ) )\n",
    "result[0]"
   ]
  },
  {
   "cell_type": "code",
   "execution_count": 40,
   "id": "7772db0d",
   "metadata": {},
   "outputs": [
    {
     "data": {
      "text/plain": [
       "True"
      ]
     },
     "execution_count": 40,
     "metadata": {},
     "output_type": "execute_result"
    }
   ],
   "source": [
    "result = model_sv.predict( pd.DataFrame( data = { 'group_id': 1, 'question_id': 6, 'confirm': 0 }, index = [0] ) )\n",
    "result[0]"
   ]
  },
  {
   "cell_type": "markdown",
   "id": "c0caaa0f",
   "metadata": {},
   "source": [
    "# Градиентный бустинг (LightGBM)"
   ]
  },
  {
   "cell_type": "code",
   "execution_count": 41,
   "id": "d96ae154",
   "metadata": {},
   "outputs": [
    {
     "name": "stdout",
     "output_type": "stream",
     "text": [
      "0.69\n"
     ]
    }
   ],
   "source": [
    "from sklearn.ensemble import HistGradientBoostingClassifier\n",
    "    param_to_predict='result'\n",
    "    y = df[param_to_predict]\n",
    "    X = df.loc[:, df.columns != param_to_predict]\n",
    "    model_gb = HistGradientBoostingClassifier().fit(X, y)\n",
    "print(clf.score(X, y)) # mean accuracy"
   ]
  },
  {
   "cell_type": "code",
   "execution_count": 42,
   "id": "fe2e5104",
   "metadata": {},
   "outputs": [
    {
     "data": {
      "image/png": "[encoded data removed]",
      "text/plain": [
       "<Figure size 640x480 with 1 Axes>"
      ]
     },
     "metadata": {},
     "output_type": "display_data"
    }
   ],
   "source": [
    "from sklearn.metrics import RocCurveDisplay\n",
    "import matplotlib.pyplot as plt\n",
    "RocCurveDisplay.from_estimator(model_gb, X, y)\n",
    "plt.show()"
   ]
  },
  {
   "cell_type": "code",
   "execution_count": 43,
   "id": "f5eba260",
   "metadata": {},
   "outputs": [
    {
     "data": {
      "text/plain": [
       "False"
      ]
     },
     "execution_count": 43,
     "metadata": {},
     "output_type": "execute_result"
    }
   ],
   "source": [
    "result = clf.predict( pd.DataFrame( data = { 'group_id': 3, 'question_id': 5, 'confirm': 1 }, index = [0] ) )\n",
    "result[0]"
   ]
  },
  {
   "cell_type": "code",
   "execution_count": 44,
   "id": "ddca2c67",
   "metadata": {},
   "outputs": [
    {
     "data": {
      "text/plain": [
       "True"
      ]
     },
     "execution_count": 44,
     "metadata": {},
     "output_type": "execute_result"
    }
   ],
   "source": [
    "result = clf.predict( pd.DataFrame( data = { 'group_id': 1, 'question_id': 6, 'confirm': 0 }, index = [0] ) )\n",
    "result[0]"
   ]
  },
  {
   "cell_type": "markdown",
   "id": "5d0fac0d",
   "metadata": {},
   "source": [
    "# Сравнение"
   ]
  },
  {
   "cell_type": "markdown",
   "id": "059194a6",
   "metadata": {},
   "source": [
    "[Точность (mean_accuracy)](https://developers.google.com/machine-learning/crash-course/classification/accuracy)"
   ]
  },
  {
   "cell_type": "code",
   "execution_count": 80,
   "id": "a75cb313",
   "metadata": {},
   "outputs": [
    {
     "name": "stdout",
     "output_type": "stream",
     "text": [
      "LogisticRegression  -  67.0\n",
      "SVC  -  66.0\n",
      "HistGradientBoostingClassifier  -  69.0\n"
     ]
    }
   ],
   "source": [
    "for model in [model_lr, model_sv, model_gb]:\n",
    "    print(model.__class__.__name__, ' - ', 100.0*model.score(X,y))"
   ]
  },
  {
   "cell_type": "markdown",
   "id": "28ddb10f",
   "metadata": {},
   "source": [
    "[ROC AUC](https://developers.google.com/machine-learning/crash-course/classification/roc-and-auc)"
   ]
  },
  {
   "cell_type": "code",
   "execution_count": 81,
   "id": "e121db2f",
   "metadata": {},
   "outputs": [
    {
     "name": "stdout",
     "output_type": "stream",
     "text": [
      "LogisticRegression 0.7531\n",
      "HistGradientBoostingClassifier 0.7871\n"
     ]
    }
   ],
   "source": [
    "from sklearn.metrics import roc_auc_score\n",
    "for model in [model_lr, model_gb]: # no model_sv\n",
    "    print(model.__class__.__name__, round(roc_auc_score(y, model.predict_proba(X)[:, 1]),4) )"
   ]
  },
  {
   "cell_type": "code",
   "execution_count": null,
   "id": "02144bcf",
   "metadata": {},
   "outputs": [],
   "source": []
  }
 ],
 "metadata": {
  "kernelspec": {
   "display_name": "Python 3 (ipykernel)",
   "language": "python",
   "name": "python3"
  },
  "language_info": {
   "codemirror_mode": {
    "name": "ipython",
    "version": 3
   },
   "file_extension": ".py",
   "mimetype": "text/x-python",
   "name": "python",
   "nbconvert_exporter": "python",
   "pygments_lexer": "ipython3",
   "version": "3.10.6"
  }
 },
 "nbformat": 4,
 "nbformat_minor": 5
}
